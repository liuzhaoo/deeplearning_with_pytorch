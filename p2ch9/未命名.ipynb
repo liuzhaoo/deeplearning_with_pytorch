{
 "cells": [
  {
   "cell_type": "markdown",
   "metadata": {},
   "source": [
    "### 工程步骤\n",
    "\n",
    "####  1. 加载数据，生成包含完整的3D扫描的的CT实例\n",
    "\n",
    "将ct扫描数据转换成可以用pytorch处理的形式，将原始数据转换为PyTorch可用的形式是我们在任何   项目中的的第一步。\n",
    "\n",
    "#### 2. 将数据与分割模型结合，标记感兴趣的体素\n",
    "\n",
    "使用PyTorch识别肺部潜在肿瘤的体素来实现一种称为分割的技术。这大致类似于步骤3中的生成一个区域的热图，然后输入到我们的分类器中。这将使我们能\t够专注于肺内潜在的肿瘤，而忽略大块无趣\t的解剖结构\n",
    "\n",
    "#### 3. 然后把感兴趣的体素分成小块，寻找候选结节。\n",
    "\n",
    "把上一步分割出来的体素聚集起来形成候选结节，我们将在我们的热图上找到每个热点(感兴趣的点)的大致中心，每个结节都可以通过其中心点的索引、行和列来定位。我们这样做是为了给最终的分类器\t呈现一个简单的约束问题。分组体素不会直接涉及到PyTorch，所以我们把它放到一个单独的步骤。\n",
    "\n",
    "#### 4. 使用3D卷积将候选结节分类为实际结节或非结节\n",
    "\n",
    "从候选结构决定肿瘤性质的特征对于有问题的肿瘤来说是局部的，因此这种方法应该在限制输入数据大小和排除相关信息之间提供良好的平衡，制定这样的范围限制决策可以约束每个单独的任务，这有助于限制故障排除时要检查的内容的数量。\n",
    "\n",
    "#### 5. 结节分析与诊断：使用单个结节的联合分类来诊断患者\n",
    "\n",
    "与上一步的结节分类器相似，我们将尝试仅通过影像学数据来判断结节的良恶性。我们将对每个肿瘤的恶性程度进行简单的最大预测，因为只有一个肿瘤是恶性的，病人才会患上癌症。\n",
    "\n",
    "<img src=\"https://raw.githubusercontent.com/liuzhaoo/markdown_pics/master/img/ct.png\" style=\"zoom:67%;\" />"
   ]
  },
  {
   "cell_type": "code",
   "execution_count": null,
   "metadata": {},
   "outputs": [],
   "source": [
    "    "
   ]
  }
 ],
 "metadata": {
  "kernelspec": {
   "display_name": "Python 3",
   "language": "python",
   "name": "python3"
  },
  "language_info": {
   "codemirror_mode": {
    "name": "ipython",
    "version": 3
   },
   "file_extension": ".py",
   "mimetype": "text/x-python",
   "name": "python",
   "nbconvert_exporter": "python",
   "pygments_lexer": "ipython3",
   "version": "3.7.6"
  }
 },
 "nbformat": 4,
 "nbformat_minor": 4
}

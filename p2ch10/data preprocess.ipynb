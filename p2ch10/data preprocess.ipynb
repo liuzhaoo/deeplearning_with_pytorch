{
 "cells": [
  {
   "cell_type": "code",
   "execution_count": null,
   "metadata": {},
   "outputs": [],
   "source": [
    "# candiates.csv 文件标注了所有可能是结节的肿块的信息，包括：uid（来自哪个ct），xyz（位置信息），class(1表示是肿瘤（良性或恶性）)\n",
    "\n",
    "# annotations.csv 文件包含了一些被标记为结核的候选对象的信息。\n"
   ]
  }
 ],
 "metadata": {
  "kernelspec": {
   "display_name": "Python 3",
   "language": "python",
   "name": "python3"
  },
  "language_info": {
   "codemirror_mode": {
    "name": "ipython",
    "version": 3
   },
   "file_extension": ".py",
   "mimetype": "text/x-python",
   "name": "python",
   "nbconvert_exporter": "python",
   "pygments_lexer": "ipython3",
   "version": "3.7.6"
  }
 },
 "nbformat": 4,
 "nbformat_minor": 4
}
